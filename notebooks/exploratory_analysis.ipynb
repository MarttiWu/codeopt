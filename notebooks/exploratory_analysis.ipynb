{
 "cells": [
  {
   "cell_type": "markdown",
   "metadata": {},
   "source": [
    "# Exploratory Data Analysis (EDA)\n",
    "This notebook explores the dataset using descriptive statistics and visualizations."
   ]
  },
  {
   "cell_type": "code",
   "execution_count": null,
   "metadata": {},
   "outputs": [
    {
     "name": "stdout",
     "output_type": "stream",
     "text": [
      "Requirement already satisfied: jsonlines in /Users/martin/miniconda3/envs/codeopt/lib/python3.10/site-packages (4.0.0)\n",
      "Requirement already satisfied: attrs>=19.2.0 in /Users/martin/miniconda3/envs/codeopt/lib/python3.10/site-packages (from jsonlines) (24.2.0)\n",
      "Total records: 36373\n",
      "Sample Record:\n",
      "{'idx': 0, 'query': 'print(((eval(input().replace(*\" *\")) % 3 % 2 * \"Imp\" or \"P\") + \"ossible\"))', 'reference': 'print(f\"{eval(input().replace(*\\' *\\'))%3%2*\\'Imp\\'or\\'P\\'}ossible\")', 'query_abs': ['print', '(', '(', 'eval', '(', 'input', '(', ')', '.', 'replace', '(', '*', \"'STR'\", ')', ')', '%', \"'NUM'\", '%', \"'NUM'\", '*', \"'STR'\", 'or', \"'STR'\", ')', '+', \"'STR'\", ')', '', ''], 'edit_code_abs': ['print', '(', '(', 'eval', '(', 'input', '(', ')', '.', 'replace', '(', '*', \"'STR'\", ')', ')', '%', \"'NUM'\", '%', \"'NUM'\", '*', \"'STR'\", 'or', \"'STR'\", ')', '+', \"'STR'\", ')'], 'edit_opt_abs': ['print', '(', 'f\"{eval(input().replace(*\\'STR\\'))', '%', \"'NUM'\", '%', \"'NUM'\", '*', \"'STR'\", 'or', '\\'STR\\'}STR\"', ')']}\n"
     ]
    }
   ],
   "source": [
    "!pip install jsonlines\n",
    "import jsonlines\n",
    "\n",
    "file_path = \"../processed_data/python/processed_train.jsonl\"\n",
    "data = []\n",
    "\n",
    "with jsonlines.open(file_path) as reader:\n",
    "    for obj in reader:\n",
    "        data.append(obj)\n",
    "\n",
    "print(f\"Total records: {len(data)}\")\n",
    "print(\"Sample Record:\")\n",
    "print(data[0])"
   ]
  },
  {
   "cell_type": "code",
   "execution_count": null,
   "metadata": {},
   "outputs": [
    {
     "name": "stdout",
     "output_type": "stream",
     "text": [
      "Keys in each record:\n",
      "dict_keys(['idx', 'query', 'reference', 'query_abs', 'edit_code_abs', 'edit_opt_abs'])\n"
     ]
    }
   ],
   "source": [
    "keys = data[0].keys()\n",
    "print(\"Keys in each record:\")\n",
    "print(keys)"
   ]
  },
  {
   "cell_type": "code",
   "execution_count": null,
   "metadata": {},
   "outputs": [
    {
     "name": "stdout",
     "output_type": "stream",
     "text": [
      "Key Distribution:\n",
      "idx: 36373\n",
      "query: 36373\n",
      "reference: 36373\n",
      "query_abs: 36373\n",
      "edit_code_abs: 36373\n",
      "edit_opt_abs: 36373\n"
     ]
    }
   ],
   "source": [
    "from collections import Counter\n",
    "\n",
    "key_counts = Counter(key for record in data for key in record.keys())\n",
    "print(\"Key Distribution:\")\n",
    "for key, count in key_counts.items():\n",
    "    print(f\"{key}: {count}\")"
   ]
  },
  {
   "cell_type": "code",
   "execution_count": null,
   "metadata": {},
   "outputs": [
    {
     "name": "stdout",
     "output_type": "stream",
     "text": [
      "Collecting matplotlib\n",
      "  Downloading matplotlib-3.9.3-cp310-cp310-macosx_11_0_arm64.whl.metadata (11 kB)\n",
      "Collecting contourpy>=1.0.1 (from matplotlib)\n",
      "  Using cached contourpy-1.3.1-cp310-cp310-macosx_11_0_arm64.whl.metadata (5.4 kB)\n",
      "Collecting cycler>=0.10 (from matplotlib)\n",
      "  Using cached cycler-0.12.1-py3-none-any.whl.metadata (3.8 kB)\n",
      "Collecting fonttools>=4.22.0 (from matplotlib)\n",
      "  Downloading fonttools-4.55.2-cp310-cp310-macosx_10_9_universal2.whl.metadata (164 kB)\n",
      "Collecting kiwisolver>=1.3.1 (from matplotlib)\n",
      "  Using cached kiwisolver-1.4.7-cp310-cp310-macosx_11_0_arm64.whl.metadata (6.3 kB)\n",
      "Collecting numpy>=1.23 (from matplotlib)\n",
      "  Downloading numpy-2.1.3-cp310-cp310-macosx_14_0_arm64.whl.metadata (62 kB)\n",
      "Requirement already satisfied: packaging>=20.0 in /Users/martin/miniconda3/envs/codeopt/lib/python3.10/site-packages (from matplotlib) (24.2)\n",
      "Collecting pillow>=8 (from matplotlib)\n",
      "  Using cached pillow-11.0.0-cp310-cp310-macosx_11_0_arm64.whl.metadata (9.1 kB)\n",
      "Collecting pyparsing>=2.3.1 (from matplotlib)\n",
      "  Using cached pyparsing-3.2.0-py3-none-any.whl.metadata (5.0 kB)\n",
      "Requirement already satisfied: python-dateutil>=2.7 in /Users/martin/miniconda3/envs/codeopt/lib/python3.10/site-packages (from matplotlib) (2.9.0.post0)\n",
      "Requirement already satisfied: six>=1.5 in /Users/martin/miniconda3/envs/codeopt/lib/python3.10/site-packages (from python-dateutil>=2.7->matplotlib) (1.17.0)\n",
      "Downloading matplotlib-3.9.3-cp310-cp310-macosx_11_0_arm64.whl (7.8 MB)\n",
      "\u001b[2K   \u001b[90m━━━━━━━━━━━━━━━━━━━━━━━━━━━━━━━━━━━━━━━━\u001b[0m \u001b[32m7.8/7.8 MB\u001b[0m \u001b[31m36.8 MB/s\u001b[0m eta \u001b[36m0:00:00\u001b[0ma \u001b[36m0:00:01\u001b[0m\n",
      "\u001b[?25hUsing cached contourpy-1.3.1-cp310-cp310-macosx_11_0_arm64.whl (253 kB)\n",
      "Using cached cycler-0.12.1-py3-none-any.whl (8.3 kB)\n",
      "Downloading fonttools-4.55.2-cp310-cp310-macosx_10_9_universal2.whl (2.8 MB)\n",
      "\u001b[2K   \u001b[90m━━━━━━━━━━━━━━━━━━━━━━━━━━━━━━━━━━━━━━━━\u001b[0m \u001b[32m2.8/2.8 MB\u001b[0m \u001b[31m39.0 MB/s\u001b[0m eta \u001b[36m0:00:00\u001b[0m\n",
      "\u001b[?25hUsing cached kiwisolver-1.4.7-cp310-cp310-macosx_11_0_arm64.whl (64 kB)\n",
      "Downloading numpy-2.1.3-cp310-cp310-macosx_14_0_arm64.whl (5.4 MB)\n",
      "\u001b[2K   \u001b[90m━━━━━━━━━━━━━━━━━━━━━━━━━━━━━━━━━━━━━━━━\u001b[0m \u001b[32m5.4/5.4 MB\u001b[0m \u001b[31m39.5 MB/s\u001b[0m eta \u001b[36m0:00:00\u001b[0m\n",
      "\u001b[?25hUsing cached pillow-11.0.0-cp310-cp310-macosx_11_0_arm64.whl (3.0 MB)\n",
      "Using cached pyparsing-3.2.0-py3-none-any.whl (106 kB)\n",
      "Installing collected packages: pyparsing, pillow, numpy, kiwisolver, fonttools, cycler, contourpy, matplotlib\n",
      "Successfully installed contourpy-1.3.1 cycler-0.12.1 fonttools-4.55.2 kiwisolver-1.4.7 matplotlib-3.9.3 numpy-2.1.3 pillow-11.0.0 pyparsing-3.2.0\n"
     ]
    },
    {
     "data": {
      "image/png": "[encoded data removed]",
      "text/plain": [
       "<Figure size 640x480 with 1 Axes>"
      ]
     },
     "metadata": {},
     "output_type": "display_data"
    }
   ],
   "source": [
    "!pip install matplotlib\n",
    "import matplotlib.pyplot as plt\n",
    "\n",
    "query_lengths = [len(record['query']) for record in data if 'query' in record]\n",
    "plt.hist(query_lengths, bins=20)\n",
    "plt.title(\"Distribution of Query Lengths\")\n",
    "plt.xlabel(\"Query Length\")\n",
    "plt.ylabel(\"Frequency\")\n",
    "plt.show()"
   ]
  },
  {
   "cell_type": "code",
   "execution_count": null,
   "metadata": {},
   "outputs": [
    {
     "name": "stdout",
     "output_type": "stream",
     "text": [
      "Sample Queries:\n",
      "1: print(((eval(input().replace(*\" *\")) % 3 % 2 * \"Imp\" or \"P\") + \"ossible\"))\n",
      "2: from itertools import product\n",
      "N = int(eval(input()))\n",
      "A = []\n",
      "XY = [[] for _ in range(N)]\n",
      "for i in range(N):\n",
      "    A.append(int(eval(input())))\n",
      "    for j in range(A[i]):\n",
      "        XY[i].append(list(map(int, input().split())))\n",
      "ans = 0\n",
      "for pattern in product(list(range(2)), repeat=N):  \n",
      "    flag = True\n",
      "    for i in range(N):\n",
      "        if pattern[i]:  \n",
      "            for a in range(A[i]):\n",
      "                if pattern[XY[i][a][0] - 1] != XY[i][a][1]:\n",
      "                    flag = False\n",
      "                    break\n",
      "    if flag:\n",
      "        ans = max(ans, sum(pattern))\n",
      "print(ans)\n",
      "3: import sys\n",
      "import numpy as np\n",
      "from functools import lru_cache\n",
      "from collections import deque\n",
      "H, W = list(map(int, input().split()))\n",
      "grid = [list(eval(input())) for i in range(H)]\n",
      "dp = [[0] * (W + 1) for i in range(H + 1)]\n",
      "dp[0][0] = 1\n",
      "mod = (10**9) + 7\n",
      "for i in range(H):\n",
      "    for j in range(W):\n",
      "        if i > 0 or j > 0:\n",
      "            if grid[i][j] == \"#\":\n",
      "                dp[i][j] = 0\n",
      "            else:\n",
      "                dp[i][j] = (dp[i - 1][j] + dp[i][j - 1]) % mod\n",
      "print((dp[H - 1][W - 1]))\n",
      "4: n = int(eval(input()))\n",
      "for i in range(n, 0, -1):\n",
      "    if i**0.5 == int(i**0.5):\n",
      "        ans = i\n",
      "        break\n",
      "print(ans)\n",
      "5: n = int(input())\n",
      "cards, suits = [], [\"S\", \"H\", \"C\", \"D\"]\n",
      "for suit in suits:\n",
      "    for x in range(1, 14):\n",
      "        cards.append(\"{} {}\".format(suit, x))\n",
      "for _ in range(n):\n",
      "    target = \" \".join(input().split())\n",
      "    if target in cards:\n",
      "        cards.remove(target)\n",
      "[print(c) for c in cards]\n"
     ]
    }
   ],
   "source": [
    "queries = [record['query'] for record in data if 'query' in record]\n",
    "print(\"Sample Queries:\")\n",
    "for i, query in enumerate(queries[:5], start=1):\n",
    "    print(f\"{i}: {query}\")"
   ]
  }
 ],
 "metadata": {
  "kernelspec": {
   "display_name": "codeopt",
   "language": "python",
   "name": "python3"
  },
  "language_info": {
   "codemirror_mode": {
    "name": "ipython",
    "version": 3
   },
   "file_extension": ".py",
   "mimetype": "text/x-python",
   "name": "python",
   "nbconvert_exporter": "python",
   "pygments_lexer": "ipython3",
   "version": "3.10.15"
  }
 },
 "nbformat": 4,
 "nbformat_minor": 2
}
